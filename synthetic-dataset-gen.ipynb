{
 "cells": [
  {
   "cell_type": "code",
   "execution_count": 1,
   "id": "fd3b2bf8-a83c-4e6a-b13b-93827e47badf",
   "metadata": {},
   "outputs": [
    {
     "name": "stdout",
     "output_type": "stream",
     "text": [
      "Dataset generated and saved as 'exam_house_dataset.csv'\n"
     ]
    }
   ],
   "source": [
    "import pandas as pd\n",
    "import numpy as np\n",
    "\n",
    "# Set random seed for reproducibility\n",
    "np.random.seed(42)\n",
    "\n",
    "# Generate synthetic data\n",
    "n_records = 1000\n",
    "\n",
    "# 1. Study Hours (2 to 10 hours, normally distributed)\n",
    "study_hours = np.random.normal(loc=5, scale=1.5, size=n_records)\n",
    "study_hours = np.clip(study_hours, 2, 10).round(1)  # Limit range and round\n",
    "\n",
    "# 2. Exam Scores (50 to 100, correlated with study hours + noise)\n",
    "exam_scores = 50 + (study_hours * 5) + np.random.normal(0, 8, n_records)\n",
    "exam_scores = np.clip(exam_scores, 50, 100).astype(int)\n",
    "\n",
    "# 3. House Area (800 to 2500 sq ft, skewed right)\n",
    "house_area = np.random.gamma(shape=2, scale=500, size=n_records).astype(int)\n",
    "house_area = np.clip(house_area, 800, 2500)\n",
    "\n",
    "# 4. House Prices ($150K to $600K, correlated with area + noise)\n",
    "house_prices = 100_000 + (house_area * 200) + np.random.normal(0, 30_000, n_records)\n",
    "house_prices = np.clip(house_prices, 150_000, 600_000).astype(int)\n",
    "\n",
    "# Create DataFrame\n",
    "data = pd.DataFrame({\n",
    "    'Study_Hours': study_hours,\n",
    "    'Exam_Score': exam_scores,\n",
    "    'House_Area_sqft': house_area,\n",
    "    'House_Price_USD': house_prices\n",
    "})\n",
    "\n",
    "# Save to CSV\n",
    "data.to_csv('exam_house_dataset.csv', index=False)\n",
    "print(\"Dataset generated and saved as 'exam_house_dataset.csv'\")"
   ]
  },
  {
   "cell_type": "code",
   "execution_count": null,
   "id": "46025ea4-e400-4f38-923b-0dcdec6e907c",
   "metadata": {},
   "outputs": [],
   "source": []
  }
 ],
 "metadata": {
  "kernelspec": {
   "display_name": "Python 3 (ipykernel)",
   "language": "python",
   "name": "python3"
  },
  "language_info": {
   "codemirror_mode": {
    "name": "ipython",
    "version": 3
   },
   "file_extension": ".py",
   "mimetype": "text/x-python",
   "name": "python",
   "nbconvert_exporter": "python",
   "pygments_lexer": "ipython3",
   "version": "3.12.7"
  }
 },
 "nbformat": 4,
 "nbformat_minor": 5
}
